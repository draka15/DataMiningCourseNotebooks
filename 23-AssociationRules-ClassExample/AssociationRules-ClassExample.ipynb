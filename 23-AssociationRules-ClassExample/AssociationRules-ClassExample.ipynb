{
 "cells": [
  {
   "cell_type": "markdown",
   "metadata": {},
   "source": [
    "# Class Example\n",
    "This is the R code to check the result of the class examples. The file \"ClassExample.txt\" contains the data used in the slides. The file \"DMTM20160427.txt\" contains the data used in the example from the exam on April 27 2016. Note that although the exam asks for the FP-Tree here we are computing the frequent itemsets and the association rules with a min sup of 4 and a confidence of 0.9 which was discussed during the lecture."
   ]
  },
  {
   "cell_type": "code",
   "execution_count": 1,
   "metadata": {},
   "outputs": [
    {
     "name": "stderr",
     "output_type": "stream",
     "text": [
      "Loading required package: Matrix\n",
      "\n",
      "Attaching package: ‘arules’\n",
      "\n",
      "The following objects are masked from ‘package:base’:\n",
      "\n",
      "    abbreviate, write\n",
      "\n"
     ]
    }
   ],
   "source": [
    "library(arules)"
   ]
  },
  {
   "cell_type": "code",
   "execution_count": 2,
   "metadata": {},
   "outputs": [
    {
     "name": "stdout",
     "output_type": "stream",
     "text": [
      "    items        \n",
      "[1] {B,C,D,F,G}  \n",
      "[2] {A,B,C,D,E,F}\n",
      "[3] {A,D,E,F,H}  \n",
      "[4] {A,B,C,D,G}  \n",
      "[5] {A,C,D,E,F}  \n",
      "[6] {A,B,C,E}    \n",
      "[7] {A,B,C,G}    \n",
      "[8] {B,G,I}      \n"
     ]
    }
   ],
   "source": [
    "trans = read.transactions(\"DMTM20160427.txt\", sep=\",\", format=\"basket\")\n",
    "inspect(trans)"
   ]
  },
  {
   "cell_type": "code",
   "execution_count": 3,
   "metadata": {},
   "outputs": [
    {
     "name": "stdout",
     "output_type": "stream",
     "text": [
      "Apriori\n",
      "\n",
      "Parameter specification:\n",
      " confidence minval smax arem  aval originalSupport maxtime support minlen\n",
      "         NA    0.1    1 none FALSE            TRUE       5     0.5      1\n",
      " maxlen            target   ext\n",
      "     10 frequent itemsets FALSE\n",
      "\n",
      "Algorithmic control:\n",
      " filter tree heap memopt load sort verbose\n",
      "    0.1 TRUE TRUE  FALSE TRUE    2    TRUE\n",
      "\n",
      "Absolute minimum support count: 4 \n",
      "\n",
      "set item appearances ...[0 item(s)] done [0.00s].\n",
      "set transactions ...[9 item(s), 8 transaction(s)] done [0.00s].\n",
      "sorting and recoding items ... [7 item(s)] done [0.00s].\n",
      "creating transaction tree ... done [0.00s].\n",
      "checking subsets of size 1 2 3 done [0.00s].\n",
      "writing ... [16 set(s)] done [0.00s].\n",
      "creating S4 object  ... done [0.00s].\n"
     ]
    }
   ],
   "source": [
    "fi <- apriori(trans, parameter = list(support=4/8, minlen=1, target=\"frequent\"))"
   ]
  },
  {
   "cell_type": "code",
   "execution_count": 4,
   "metadata": {},
   "outputs": [
    {
     "name": "stdout",
     "output_type": "stream",
     "text": [
      "     items   support count\n",
      "[1]  {G}     0.500   4    \n",
      "[2]  {E}     0.500   4    \n",
      "[3]  {F}     0.500   4    \n",
      "[4]  {D}     0.625   5    \n",
      "[5]  {B}     0.750   6    \n",
      "[6]  {C}     0.750   6    \n",
      "[7]  {A}     0.750   6    \n",
      "[8]  {B,G}   0.500   4    \n",
      "[9]  {A,E}   0.500   4    \n",
      "[10] {D,F}   0.500   4    \n",
      "[11] {C,D}   0.500   4    \n",
      "[12] {A,D}   0.500   4    \n",
      "[13] {B,C}   0.625   5    \n",
      "[14] {A,B}   0.500   4    \n",
      "[15] {A,C}   0.625   5    \n",
      "[16] {A,B,C} 0.500   4    \n"
     ]
    }
   ],
   "source": [
    "inspect(fi)"
   ]
  },
  {
   "cell_type": "code",
   "execution_count": 5,
   "metadata": {},
   "outputs": [
    {
     "data": {
      "text/html": [
       "16"
      ],
      "text/latex": [
       "16"
      ],
      "text/markdown": [
       "16"
      ],
      "text/plain": [
       "[1] 16"
      ]
     },
     "metadata": {},
     "output_type": "display_data"
    }
   ],
   "source": [
    "length(fi)"
   ]
  },
  {
   "cell_type": "code",
   "execution_count": 6,
   "metadata": {},
   "outputs": [
    {
     "name": "stdout",
     "output_type": "stream",
     "text": [
      "Apriori\n",
      "\n",
      "Parameter specification:\n",
      " confidence minval smax arem  aval originalSupport maxtime support minlen\n",
      "        0.9    0.1    1 none FALSE            TRUE       5     0.5      2\n",
      " maxlen target   ext\n",
      "     10  rules FALSE\n",
      "\n",
      "Algorithmic control:\n",
      " filter tree heap memopt load sort verbose\n",
      "    0.1 TRUE TRUE  FALSE TRUE    2    TRUE\n",
      "\n",
      "Absolute minimum support count: 4 \n",
      "\n",
      "set item appearances ...[0 item(s)] done [0.00s].\n",
      "set transactions ...[9 item(s), 8 transaction(s)] done [0.00s].\n",
      "sorting and recoding items ... [7 item(s)] done [0.00s].\n",
      "creating transaction tree ... done [0.00s].\n",
      "checking subsets of size 1 2 3 done [0.00s].\n",
      "writing ... [4 rule(s)] done [0.00s].\n",
      "creating S4 object  ... done [0.00s].\n"
     ]
    }
   ],
   "source": [
    "ar <- apriori(trans, parameter = list(support=4/8, confidence=0.9, minlen=2, target=\"rules\"))"
   ]
  },
  {
   "cell_type": "code",
   "execution_count": 7,
   "metadata": {},
   "outputs": [
    {
     "name": "stdout",
     "output_type": "stream",
     "text": [
      "    lhs      rhs support confidence lift     count\n",
      "[1] {G}   => {B} 0.5     1          1.333333 4    \n",
      "[2] {E}   => {A} 0.5     1          1.333333 4    \n",
      "[3] {F}   => {D} 0.5     1          1.600000 4    \n",
      "[4] {A,B} => {C} 0.5     1          1.333333 4    \n"
     ]
    }
   ],
   "source": [
    "inspect(ar)"
   ]
  }
 ],
 "metadata": {
  "kernelspec": {
   "display_name": "R",
   "language": "R",
   "name": "ir"
  },
  "language_info": {
   "codemirror_mode": "r",
   "file_extension": ".r",
   "mimetype": "text/x-r-source",
   "name": "R",
   "pygments_lexer": "r",
   "version": "3.4.3"
  }
 },
 "nbformat": 4,
 "nbformat_minor": 2
}
